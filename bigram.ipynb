{
 "cells": [
  {
   "cell_type": "code",
   "execution_count": 21,
   "metadata": {},
   "outputs": [],
   "source": [
    "import torch\n",
    "import torch.nn as nn\n",
    "from torch.nn import functional as F"
   ]
  },
  {
   "cell_type": "code",
   "execution_count": 38,
   "metadata": {},
   "outputs": [],
   "source": [
    "# Parameters\n",
    "device = \"cuda\" if torch.cuda.is_available() else \"cpu\"\n",
    "block_size = 8\n",
    "batch_size = 4\n",
    "max_iters = 1000\n",
    "# eval_interval = 2500\n",
    "learning_rate = 3e-4\n",
    "eval_iters = 250         "
   ]
  },
  {
   "cell_type": "code",
   "execution_count": 39,
   "metadata": {},
   "outputs": [],
   "source": [
    "with open('data/wizard_in_oz.txt', 'r',  encoding=\"utf-8\") as f:\n",
    "    text = f.read()\n",
    "\n",
    "# List of unique characters in the text.\n",
    "chars = sorted(set(text))\n",
    "vocab_size = len(chars)"
   ]
  },
  {
   "cell_type": "code",
   "execution_count": 40,
   "metadata": {},
   "outputs": [],
   "source": [
    "# Tokenizer for charecters.\n",
    "\n",
    "string_to_int = dict((c, i) for i, c in enumerate(chars))\n",
    "int_to_string = dict((i, c) for i, c in enumerate(chars))\n",
    "\n",
    "# Functions for tokenizing the text.\n",
    "def encode(s: str) -> list:\n",
    "    return [string_to_int[c] for c in s]\n",
    "\n",
    "def decode(ints) -> list:\n",
    "    return ''.join([int_to_string[i] for i in ints])"
   ]
  },
  {
   "cell_type": "code",
   "execution_count": 41,
   "metadata": {},
   "outputs": [
    {
     "name": "stdout",
     "output_type": "stream",
     "text": [
      "helloworld_encoded:  [61, 58, 65, 65, 68, 1, 76, 68, 71, 65, 57]\n",
      "helloworld_decoded:  hello world\n"
     ]
    }
   ],
   "source": [
    "# Testing functions for tokenizing the text.\n",
    "helloworld_encoded = encode(\"hello world\")\n",
    "helloworld_decoded = decode(helloworld_encoded)\n",
    "\n",
    "print('helloworld_encoded: ' , helloworld_encoded)\n",
    "print('helloworld_decoded: ', helloworld_decoded)"
   ]
  },
  {
   "cell_type": "code",
   "execution_count": 42,
   "metadata": {},
   "outputs": [],
   "source": [
    "# Convert the entire text to the tensor.\n",
    "data = torch.LongTensor(encode(text))\n",
    "\n",
    "# Split the data into training and validation sets.\n",
    "n_splits = int(len(text) * 0.8)\n",
    "train_data = data[:n_splits]\n",
    "val_data = data[n_splits:]"
   ]
  },
  {
   "cell_type": "code",
   "execution_count": 43,
   "metadata": {},
   "outputs": [],
   "source": [
    "block_size = 8\n",
    "\n",
    "x = train_data[:]"
   ]
  },
  {
   "cell_type": "code",
   "execution_count": 44,
   "metadata": {},
   "outputs": [],
   "source": [
    "class BigramLanguageModel(nn.Module):\n",
    "    def __init__(self, vocab_size):\n",
    "        super().__init__()\n",
    "        self.token_embedding_table = nn.Embedding(vocab_size, vocab_size)\n",
    "        \n",
    "    def forward(self, index, targets=None):\n",
    "        logits = self.token_embedding_table(index)\n",
    "        \n",
    "        \n",
    "        if targets is None:\n",
    "            loss = None\n",
    "        else:\n",
    "            B, T, C = logits.shape\n",
    "            logits = logits.view(B*T, C)\n",
    "            targets = targets.view(B*T)\n",
    "            loss = F.cross_entropy(logits, targets)\n",
    "        \n",
    "        return logits, loss\n",
    "    \n",
    "    def generate(self, index, max_new_tokens):\n",
    "        # index is (B, T) array of indices in the current context\n",
    "        for _ in range(max_new_tokens):\n",
    "            # get the predictions\n",
    "            logits, loss = self.forward(index)\n",
    "            # focus only on the last time step\n",
    "            logits = logits[:, -1, :] # becomes (B, C)\n",
    "            # apply softmax to get probabilities\n",
    "            probs = F.softmax(logits, dim=-1) # (B, C)\n",
    "            # sample from the distribution\n",
    "            index_next = torch.multinomial(probs, num_samples=1) # (B, 1)\n",
    "            # append sampled index to the running sequence\n",
    "            index = torch.cat((index, index_next), dim=1) # (B, T+1)\n",
    "        return index"
   ]
  },
  {
   "cell_type": "code",
   "execution_count": 45,
   "metadata": {},
   "outputs": [
    {
     "name": "stdout",
     "output_type": "stream",
     "text": [
      "\n",
      "\n",
      "Cet]zXF_-p\"e\"BsGXtm_nO7iEu]PT.v[YQG\n",
      "Xn:M.is;;1GOJ\"gsc1,.9]lBcV WuXlAg4w﻿F.I'D?AaD*Brk:MXAqn:H\n",
      "jb﻿FQH*)XtP-dG0Lbrs0ngt-CID,Gp-vQE8\n",
      "*dBOcyHcPYS﻿sU?r&\"Ps)PO﻿IQ9?IoY_JP&LM!dEU?MydO4lnzhy)L,eBt11Vg4R5J!HHBjiwa\"e-?8\n",
      "0nw(kp7!&X?_q.)])H!;A9:,,kci-2 NLs!S6(j& DhQ7Cau1;:1(PlZbU!A:1cC'g16Suet*vV\n",
      "Ru!Oo'yW*2c W?X4;:hIq[2_j& C1vqr-VgOSXaDcTCliG.3?!O9t*:V;3*n8c1WZD7H[.Vk9 fmIWTIStr[l_j)TC1TOb*Gk''VYS),QddrHccrtT!S﻿IiN6q-ull0Ft\"Ag3PtHZnb5i-PU1M zvf)TCQ\n",
      "We]7ixlZ;QYn0F*AbzP.\"rq3_-d3pP6!yh8﻿n3o7iUOYw.[r824A&wvMg4\n"
     ]
    }
   ],
   "source": [
    "model = BigramLanguageModel(vocab_size)\n",
    "m = model.to(device)\n",
    "\n",
    "context = torch.zeros((1,1), dtype=torch.long, device=device)\n",
    "generated_chars = decode(m.generate(context, max_new_tokens=500)[0].tolist())\n",
    "print(generated_chars)"
   ]
  },
  {
   "cell_type": "code",
   "execution_count": 46,
   "metadata": {},
   "outputs": [],
   "source": [
    "def get_batch(split: str):\n",
    "    \"\"\"\n",
    "    Get a batch of data from the specified split.\n",
    "\n",
    "    Args:\n",
    "        split (str): The split to retrieve data from. Can be either 'train' or 'val'.\n",
    "\n",
    "    Returns:\n",
    "        A tuple containing the input data (of shape (batch_size, block_size)) and the target data (of shape (batch_size, block_size))\n",
    "    \"\"\"\n",
    "    data = train_data if split == 'train' else val_data\n",
    "    ix = torch.randint(len(data) - block_size, (batch_size,))\n",
    "    x = torch.stack([data[i:i + block_size] for i in ix])\n",
    "    y = torch.stack([data[i + 1:i + block_size + 1] for i in ix])\n",
    "    x, y = x.to(device), y.to(device)\n",
    "    return x, y\n",
    "\n",
    "@torch.no_grad()\n",
    "def estimate_loss():\n",
    "    \"\"\"\n",
    "    Estimate the loss on the training and validation sets.\n",
    "\n",
    "    Returns:\n",
    "        A dictionary containing the mean loss on the training and validation sets.\n",
    "    \"\"\"\n",
    "    out = {}\n",
    "    model.eval()\n",
    "    for split in ['train', 'val']:\n",
    "        losses = torch.zeros(eval_iters)\n",
    "        for k in range(eval_iters):\n",
    "            X, Y = get_batch(split)\n",
    "            logits, loss = model(X, Y)\n",
    "            losses[k] = loss.item()\n",
    "        out[split] = losses.mean()\n",
    "    model.train()\n",
    "    return out"
   ]
  },
  {
   "cell_type": "code",
   "execution_count": 47,
   "metadata": {},
   "outputs": [
    {
     "name": "stdout",
     "output_type": "stream",
     "text": [
      "step: 0, train loss: 4.922, val loss: 4.911\n",
      "step: 250, train loss: 4.864, val loss: 4.825\n",
      "step: 500, train loss: 4.769, val loss: 4.773\n",
      "step: 750, train loss: 4.710, val loss: 4.717\n",
      "4.686432361602783\n"
     ]
    }
   ],
   "source": [
    "# create a PyTorch optimizer\n",
    "optimizer = torch.optim.AdamW(model.parameters(), lr=learning_rate)\n",
    "\n",
    "for iter in range(max_iters):\n",
    "    if iter % eval_iters == 0:\n",
    "        losses = estimate_loss()\n",
    "        print(f\"step: {iter}, train loss: {losses['train']:.3f}, val loss: {losses['val']:.3f}\")\n",
    "\n",
    "    # sample a batch of data\n",
    "    xb, yb = get_batch('train')\n",
    "\n",
    "    # evaluate the loss\n",
    "    logits, loss = model.forward(xb, yb)\n",
    "    optimizer.zero_grad(set_to_none=True)\n",
    "    loss.backward()\n",
    "    optimizer.step()\n",
    "print(loss.item())"
   ]
  },
  {
   "cell_type": "code",
   "execution_count": null,
   "metadata": {},
   "outputs": [],
   "source": []
  }
 ],
 "metadata": {
  "kernelspec": {
   "display_name": "base",
   "language": "python",
   "name": "python3"
  },
  "language_info": {
   "codemirror_mode": {
    "name": "ipython",
    "version": 3
   },
   "file_extension": ".py",
   "mimetype": "text/x-python",
   "name": "python",
   "nbconvert_exporter": "python",
   "pygments_lexer": "ipython3",
   "version": "3.11.7"
  }
 },
 "nbformat": 4,
 "nbformat_minor": 2
}
